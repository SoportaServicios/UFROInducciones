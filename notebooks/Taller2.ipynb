{
 "cells": [
  {
   "cell_type": "markdown",
   "metadata": {},
   "source": [
    "# Introducción a Descarga de Datos desde API Python a Plataforma GIS\r\n",
    "## Paso 0: Instalar el módulo de python en el entorno conda\r\n",
    "\r\n",
    "[Cómo instalar usando Anaconda](https://developers.arcgis.com/python/guide/install-and-set-up/#Installation-using-Anaconda-for-Python-Distribution)\r\n",
    "\r\n",
    "\r\n",
    "## Paso 1: Importar el módulo de arcgis y conectarse al portal de la organización\r\n",
    "\r\n",
    "[Documentación](https://developers.arcgis.com/python/guide/using-the-api/)"
   ]
  },
  {
   "cell_type": "code",
   "execution_count": null,
   "metadata": {},
   "outputs": [],
   "source": [
    "import csv\r\n",
    "import pandas as pd\r\n",
    "import arcgis\r\n",
    "from arcgis.gis import GIS\r\n",
    "from arcgis.geometry import project\r\n",
    "from IPython.display import display\r\n",
    "\r\n",
    "gis = GIS(\"https://gis.ufro.cl/portal\", 'initialadmin', 'Ufroportal.2021', verify_cert=False)\r\n",
    "\r\n",
    "#Modo de prueba: Obtener un servicio de datos de contenido\r\n",
    "demodata=gis.content.get('62ea18749a9649e1ad0b8551e75953a5')\r\n",
    "demodata"
   ]
  },
  {
   "cell_type": "markdown",
   "metadata": {},
   "source": [
    "## Paso 2: Establecer una consulta de datos\r\n",
    "En este proceso se pueden utilizar, opcionalmente, elementos de librería pandas para tabular datos\r\n",
    "1. Obtener la capa de interes\r\n",
    "2. Realizar una query de datos\r\n",
    "Actualmente la capa de prueba tiene tres elementos: Observaciones (0) Rutas (1) y Zonas (2). En este ejercicio se obtendrá la capa de observaciones y se le agregará un punto"
   ]
  },
  {
   "cell_type": "code",
   "execution_count": null,
   "metadata": {},
   "outputs": [],
   "source": [
    "#Lista las capas del servicio, retorna un arreglo\r\n",
    "capas=demodata.layers\r\n",
    "#capas\r\n",
    "#Se selecciona la capa que corresponde según el arreglo\r\n",
    "puntos=capas[0]\r\n",
    "#puntos\r\n",
    "\r\n",
    "#Operación query, realiza una consulta de datos al servicio y puede ser usada como una tabla \r\n",
    "consulta=puntos.query(out_fields=\"id,descripcion,tipo\")\r\n",
    "consulta.sdf"
   ]
  }
 ],
 "metadata": {
  "interpreter": {
   "hash": "2ffc68a898cdf6ae2d053613cdf1702dd2070bde6aa15cd9ac7af3dacdaf0735"
  },
  "kernelspec": {
   "display_name": "Python 3.7.10 64-bit ('arcgispro-py3': conda)",
   "name": "python3"
  },
  "language_info": {
   "name": "python",
   "version": ""
  },
  "orig_nbformat": 4
 },
 "nbformat": 4,
 "nbformat_minor": 2
}