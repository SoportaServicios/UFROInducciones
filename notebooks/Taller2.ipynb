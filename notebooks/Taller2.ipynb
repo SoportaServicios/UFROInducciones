{
 "cells": [
  {
   "cell_type": "markdown",
   "metadata": {},
   "source": [
    "# Introducción a Descarga de Datos desde API Python a Plataforma GIS\r\n",
    "## Paso 0: Instalar el módulo de python en el entorno conda\r\n",
    "\r\n",
    "[Cómo instalar usando Anaconda](https://developers.arcgis.com/python/guide/install-and-set-up/#Installation-using-Anaconda-for-Python-Distribution)\r\n",
    "\r\n",
    "\r\n",
    "## Paso 1: Importar el módulo de arcgis y conectarse al portal de la organización\r\n",
    "\r\n",
    "[Documentación](https://developers.arcgis.com/python/guide/using-the-api/)"
   ]
  },
  {
   "cell_type": "code",
   "execution_count": null,
   "metadata": {},
   "outputs": [],
   "source": [
    "import csv\r\n",
    "import pandas as pd\r\n",
    "import arcgis\r\n",
    "import arcgis.features\r\n",
    "from arcgis.gis import GIS\r\n",
    "from arcgis.geometry import project\r\n",
    "from IPython.display import display\r\n",
    "import matplotlib.pyplot as plt\r\n",
    "\r\n",
    "gis = GIS(\"https://gis.ufro.cl/portal\", 'initialadmin', 'Ufroportal.2021', verify_cert=False)\r\n",
    "\r\n",
    "#Modo de prueba: Obtener un servicio de datos de contenido\r\n",
    "demodata=gis.content.get('62ea18749a9649e1ad0b8551e75953a5')\r\n",
    "#Ejercicio: Revisar información de APR\r\n",
    "demodata2=gis.content.get('8046078720ca4f48ab41a5d5e505fab4')\r\n",
    "demodata2"
   ]
  },
  {
   "cell_type": "markdown",
   "metadata": {},
   "source": [
    "## Paso 2: Establecer una consulta de datos\r\n",
    "En este proceso se pueden utilizar, opcionalmente, elementos de librería pandas para tabular datos\r\n",
    "1. Obtener la capa de interes\r\n",
    "2. Realizar una query de datos\r\n",
    "Actualmente la capa de ejemplo tiene un elemento: aprlegacy (0). En este ejercicio se obtendrá la capa de observaciones y se trabajará con filtros"
   ]
  },
  {
   "cell_type": "code",
   "execution_count": null,
   "metadata": {},
   "outputs": [],
   "source": [
    "#Lista las capas del servicio, retorna un arreglo\r\n",
    "capas=demodata2.layers\r\n",
    "#capas\r\n",
    "#Se selecciona la capa que corresponde según el arreglo\r\n",
    "puntos=capas[0]\r\n",
    "#puntos\r\n",
    "\r\n",
    "#Operación query, realiza una consulta de datos al servicio y puede ser usada como una tabla \r\n",
    "consulta=puntos.query(out_fields=[\"id\", \"datetime\",\"cloruro\"],where=\"id LIKE '%_cap%'\")\r\n",
    "df=consulta.sdf"
   ]
  },
  {
   "cell_type": "markdown",
   "metadata": {},
   "source": [
    "Para documentación del módulo de query refierase a este sitio [API de Python, Función Query](https://developers.arcgis.com/python/api-reference/arcgis.features.toc.html?highlight=query#arcgis.features.FeatureLayer.query)\r\n",
    "\r\n",
    "## Paso 3: Exportación\r\n",
    "Los datos procesados por una consulta pueden ser trabajados como DataFrame, compatibles con la librería de python PANDAS\r\n",
    "\r\n",
    "A continuación, se mostrarán formas de exportar los datos de la consulta realizada"
   ]
  },
  {
   "cell_type": "code",
   "execution_count": null,
   "metadata": {},
   "outputs": [],
   "source": [
    "df.to_csv(\"output/data.csv\")"
   ]
  },
  {
   "cell_type": "code",
   "execution_count": null,
   "metadata": {},
   "outputs": [],
   "source": [
    "df.to_json(\"output/datajson.json\")"
   ]
  },
  {
   "cell_type": "code",
   "execution_count": 36,
   "metadata": {},
   "outputs": [
    {
     "data": {
      "text/plain": [
       "'output\\\\CAPDATA.shp'"
      ]
     },
     "execution_count": 36,
     "metadata": {},
     "output_type": "execute_result"
    }
   ],
   "source": [
    "consulta.to_geojson\r\n",
    "consulta.save(\"output\",\"CAPDATA\")"
   ]
  },
  {
   "cell_type": "code",
   "execution_count": null,
   "metadata": {},
   "outputs": [],
   "source": [
    "df.plot.line('datetime','cloruro')"
   ]
  },
  {
   "cell_type": "code",
   "execution_count": null,
   "metadata": {},
   "outputs": [],
   "source": []
  }
 ],
 "metadata": {
  "interpreter": {
   "hash": "2ffc68a898cdf6ae2d053613cdf1702dd2070bde6aa15cd9ac7af3dacdaf0735"
  },
  "kernelspec": {
   "display_name": "Python 3.7.10 64-bit ('arcgispro-py3': conda)",
   "name": "python3"
  },
  "language_info": {
   "codemirror_mode": {
    "name": "ipython",
    "version": 3
   },
   "file_extension": ".py",
   "mimetype": "text/x-python",
   "name": "python",
   "nbconvert_exporter": "python",
   "pygments_lexer": "ipython3",
   "version": "3.7.10"
  },
  "orig_nbformat": 4
 },
 "nbformat": 4,
 "nbformat_minor": 2
}