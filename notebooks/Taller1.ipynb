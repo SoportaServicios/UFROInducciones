{
 "cells": [
  {
   "cell_type": "markdown",
   "metadata": {},
   "source": [
    "# Introducción a Conexión y Carga de Datos desde API Python a Plataforma GIS\r\n",
    "## Paso 0: Instalar el módulo de python en el entorno conda\r\n",
    "\r\n",
    "[Cómo instalar usando Anaconda](https://developers.arcgis.com/python/guide/install-and-set-up/#Installation-using-Anaconda-for-Python-Distribution)\r\n",
    "\r\n",
    "\r\n",
    "## Paso 1: Importar el módulo de arcgis y conectarse al portal de la organización\r\n",
    "\r\n",
    "[Documentación](https://developers.arcgis.com/python/guide/using-the-api/)"
   ]
  },
  {
   "cell_type": "code",
   "execution_count": null,
   "metadata": {},
   "outputs": [],
   "source": [
    "import csv\r\n",
    "import pandas as pd\r\n",
    "import arcgis\r\n",
    "from arcgis.gis import GIS\r\n",
    "from arcgis.geometry import project\r\n",
    "from IPython.display import display\r\n",
    "\r\n",
    "gis = GIS(\"https://gis.ufro.cl/portal\", 'initialadmin', 'Ufroportal.2021', verify_cert=False)\r\n",
    "\r\n",
    "#Modo de prueba: Obtener un servicio de datos de contenido\r\n",
    "demodata=gis.content.get('62ea18749a9649e1ad0b8551e75953a5')"
   ]
  },
  {
   "cell_type": "markdown",
   "metadata": {},
   "source": [
    "## Paso 2: Establecer una consulta de datos\r\n",
    "En este proceso se pueden utilizar, opcionalmente, elementos de librería pandas para tabular datos\r\n",
    "1. Obtener la capa de interes\r\n",
    "2. Realizar una query de datos\r\n",
    "Actualmente la capa de prueba tiene tres elementos: Observaciones (0) Rutas (1) y Zonas (2). En este ejercicio se obtendrá la capa de observaciones y se le agregará un punto"
   ]
  },
  {
   "cell_type": "code",
   "execution_count": null,
   "metadata": {},
   "outputs": [],
   "source": [
    "#Lista las capas del servicio, retorna un arreglo\r\n",
    "capas=demodata.layers\r\n",
    "#Se selecciona la capa que corresponde según el arreglo\r\n",
    "puntos=capas[0]\r\n",
    "\r\n",
    "#Operación query, realiza una consulta de datos al servicio y puede ser usada como una tabla \r\n",
    "consulta=puntos.query(out_fields=\"id,descripcion,tipo\")\r\n",
    "consulta.sdf"
   ]
  },
  {
   "cell_type": "markdown",
   "metadata": {},
   "source": [
    "## Paso 3: Formular una acción de edición\r\n",
    "Para editar, lo primero consiste en formar un diccionario sobre la base de la información existente de la consulta.\r\n",
    "La tabla de observaciones tiene 3 campos:\r\n",
    "1. id\r\n",
    "2. descripcion\r\n",
    "3. tipo\r\n",
    "\r\n",
    "Pero ADEMAS es una capa de geometría de puntos por lo que requiere un X (longitud o coordenada este) e Y (latitud o coordenada norte)\r\n",
    "El diccionario para ingresar un registro a la base de datos se compone de dos grupos \"geometry\" (con dos elementos x e y) y \"attributes\" (atributos alfanumericos)"
   ]
  },
  {
   "cell_type": "code",
   "execution_count": null,
   "metadata": {},
   "outputs": [],
   "source": [
    "#Datos individuales\r\n",
    "\r\n",
    "y=6500000\r\n",
    "x=300000\r\n",
    "id_dest=\"T003\"\r\n",
    "tipo=0\r\n",
    "desc=\"Mi descripción\"\r\n",
    "\r\n",
    "#Reproyección de datos \r\n",
    "#32718: UTM WGS84 H18\r\n",
    "#32719: UTM WGS84 H19\r\n",
    "#4326: WGS84 Geográficas\r\n",
    "#102100: WGS84 WebMercator (Servicios Web Estandar)\r\n",
    "insr=32719\r\n",
    "outsr=102100\r\n",
    "\r\n",
    "#El comando proyect reproyecta una o múltiples geometrías de un sistema de coordenadas a otro, devuelve un arreglo de diccionarios [{}]\r\n",
    "#Para este caso solo se reproyectará una coordenada por lo que la variable datosrp[0] representará al diccionario que tiene la geometría necesaria\r\n",
    "datosrp=project(geometries=[{\"x\":x,\"y\":y}],in_sr=32719,out_sr=102100)\r\n",
    "\r\n",
    "#Construcción de un diccionario para añadir un registro (1 diccionario por registro)\r\n",
    "nf_dict= {\r\n",
    "    \"attributes\":{\r\n",
    "        'id':id_dest,\r\n",
    "        'descripcion':desc,\r\n",
    "        'tipo':tipo\r\n",
    "        },\r\n",
    "    \"geometry\":datosrp[0]}\r\n",
    "\r\n",
    "#Operación de edición, esta se hace sobre la capa\r\n",
    "puntos.edit_features(adds=[nf_dict])\r\n",
    "\r\n",
    "#consulta actualizada\r\n",
    "newconsulta=puntos.query(out_fields=\"id,descripcion,tipo\")\r\n",
    "newconsulta.sdf"
   ]
  },
  {
   "cell_type": "markdown",
   "metadata": {},
   "source": [
    "## Paso 4: Cargar datos desde CSV\r\n",
    "Con un CSV externo y python, se puede automatizar la lectura de datos desde archivos planos"
   ]
  },
  {
   "cell_type": "code",
   "execution_count": null,
   "metadata": {},
   "outputs": [],
   "source": [
    "archivo='C:/Users/lzamudio/Documents/GitHub/UFROInducciones/input/data.csv'\r\n",
    "csvfile=open(archivo,newline='',encoding='utf-8')\r\n",
    "reader = csv.reader(csvfile)\r\n",
    "#next(reader)\r\n",
    "for row in reader:\r\n",
    "    print(row)\r\n",
    "csvfile.close()"
   ]
  },
  {
   "cell_type": "markdown",
   "metadata": {},
   "source": [
    "## Paso 5: Combinar pasos 3 y 4"
   ]
  },
  {
   "cell_type": "code",
   "execution_count": null,
   "metadata": {},
   "outputs": [],
   "source": [
    "archivo='C:/Users/lzamudio/Documents/GitHub/UFROInducciones/input/data.csv'\r\n",
    "csvfile=open(archivo,newline='',encoding='utf-8')\r\n",
    "reader = csv.reader(csvfile)\r\n",
    "next(reader)\r\n",
    "\r\n",
    "insr=4326\r\n",
    "outsr=102100\r\n",
    "\r\n",
    "\r\n",
    "for row in reader:\r\n",
    "    y=row[0]\r\n",
    "    x=row[1]\r\n",
    "    id_dest=row[2]\r\n",
    "    tipo=row[3]\r\n",
    "    desc=row[4]\r\n",
    "    datosrp=project(geometries=[{\"x\":x,\"y\":y}],in_sr=insr,out_sr=outsr)\r\n",
    "    nf_dict= {\r\n",
    "    \"attributes\":{\r\n",
    "        'id':id_dest,\r\n",
    "        'descripcion':desc,\r\n",
    "        'tipo':tipo\r\n",
    "        },\r\n",
    "    \"geometry\":datosrp[0]}\r\n",
    "    puntos.edit_features(adds=[nf_dict])\r\n",
    "\r\n",
    "csvfile.close()"
   ]
  },
  {
   "cell_type": "code",
   "execution_count": null,
   "metadata": {},
   "outputs": [],
   "source": [
    "newconsulta=puntos.query(out_fields=\"id,descripcion,tipo\")\r\n",
    "newconsulta.sdf"
   ]
  }
 ],
 "metadata": {
  "interpreter": {
   "hash": "b3ba2566441a7c06988d0923437866b63cedc61552a5af99d1f4fb67d367b25f"
  },
  "kernelspec": {
   "display_name": "Python 3.7.10 64-bit ('base': conda)",
   "name": "python3"
  },
  "language_info": {
   "codemirror_mode": {
    "name": "ipython",
    "version": 3
   },
   "file_extension": ".py",
   "mimetype": "text/x-python",
   "name": "python",
   "nbconvert_exporter": "python",
   "pygments_lexer": "ipython3",
   "version": "3.7.10"
  },
  "orig_nbformat": 4
 },
 "nbformat": 4,
 "nbformat_minor": 2
}