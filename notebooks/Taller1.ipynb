{
 "cells": [
  {
   "cell_type": "markdown",
   "metadata": {},
   "source": [
    "# Introducción a Conexión y Carga de Datos desde API Python a Plataforma GIS\n",
    "## Paso 0: Instalar el módulo de python en el entorno conda\n",
    "\n",
    "[Cómo instalar usando Anaconda](https://developers.arcgis.com/python/guide/install-and-set-up/#Installation-using-Anaconda-for-Python-Distribution)\n",
    "\n",
    "\n",
    "## Paso 1: Importar el módulo de arcgis y conectarse al portal de la organización\n",
    "\n",
    "[Documentación](https://developers.arcgis.com/python/guide/using-the-api/)"
   ]
  },
  {
   "cell_type": "code",
   "execution_count": null,
   "metadata": {},
   "outputs": [],
   "source": [
    "import csv\n",
    "import pandas as pd\n",
    "import arcgis\n",
    "from arcgis.gis import GIS\n",
    "from arcgis.geometry import project\n",
    "from IPython.display import display\n",
    "\n",
    "gis = GIS(\"https://gis.ufro.cl/portal\", 'initialadmin', 'Ufroportal.2021', verify_cert=False)\n",
    "\n",
    "#Modo de prueba: Obtener un servicio de datos de contenido\n",
    "demodata=gis.content.get('62ea18749a9649e1ad0b8551e75953a5')\n",
    "demodata"
   ]
  },
  {
   "cell_type": "markdown",
   "metadata": {},
   "source": [
    "## Paso 2: Establecer una consulta de datos\n",
    "En este proceso se pueden utilizar, opcionalmente, elementos de librería pandas para tabular datos\n",
    "1. Obtener la capa de interes\n",
    "2. Realizar una query de datos\n",
    "Actualmente la capa de prueba tiene tres elementos: Observaciones (0) Rutas (1) y Zonas (2). En este ejercicio se obtendrá la capa de observaciones y se le agregará un punto"
   ]
  },
  {
   "cell_type": "code",
   "execution_count": null,
   "metadata": {},
   "outputs": [],
   "source": [
    "#Lista las capas del servicio, retorna un arreglo\n",
    "capas=demodata.layers\n",
    "#capas\n",
    "#Se selecciona la capa que corresponde según el arreglo\n",
    "puntos=capas[0]\n",
    "#puntos\n",
    "\n",
    "#Operación query, realiza una consulta de datos al servicio y puede ser usada como una tabla \n",
    "consulta=puntos.query(out_fields=\"id,descripcion,tipo\")\n",
    "consulta.sdf"
   ]
  },
  {
   "cell_type": "markdown",
   "metadata": {},
   "source": [
    "## Paso 3: Formular una acción de edición\n",
    "Para editar, lo primero consiste en formar un diccionario sobre la base de la información existente de la consulta.\n",
    "La tabla de observaciones tiene 3 campos:\n",
    "1. id\n",
    "2. descripcion\n",
    "3. tipo\n",
    "\n",
    "Pero ADEMAS es una capa de geometría de puntos por lo que requiere un X (longitud o coordenada este) e Y (latitud o coordenada norte)\n",
    "El diccionario para ingresar un registro a la base de datos se compone de dos grupos \"geometry\" (con dos elementos x e y) y \"attributes\" (atributos alfanumericos)"
   ]
  },
  {
   "cell_type": "code",
   "execution_count": null,
   "metadata": {},
   "outputs": [],
   "source": [
    "#Datos individuales\n",
    "\n",
    "y=6500000\n",
    "x=300000\n",
    "id_dest=\"TP01\"\n",
    "tipo=58\n",
    "desc=\"Alerta Amarilla de Anomalía de Crecimiento de Aguas\"\n",
    "\n",
    "#Reproyección de datos \n",
    "#32718: UTM WGS84 H18\n",
    "#32719: UTM WGS84 H19\n",
    "#4326: WGS84 Geográficas\n",
    "#102100: WGS84 WebMercator (Servicios Web Estandar)\n",
    "insr=32719\n",
    "outsr=102100\n",
    "\n",
    "#El comando proyect reproyecta una o múltiples geometrías de un sistema de coordenadas a otro, devuelve un arreglo de diccionarios [{}]\n",
    "#Para este caso solo se reproyectará una coordenada por lo que la variable datosrp[0] representará al diccionario que tiene la geometría necesaria\n",
    "datosrp=project(geometries=[{\"x\":x,\"y\":y}],in_sr=32719,out_sr=102100)\n",
    "\n",
    "\n",
    "#Construcción de un diccionario para añadir un registro (1 diccionario por registro)\n",
    "nf_dict= {\n",
    "    \"attributes\":{\n",
    "        'id':id_dest,\n",
    "        'descripcion':desc,\n",
    "        'tipo':tipo\n",
    "        },\n",
    "    \"geometry\":datosrp[0]}\n",
    "\n",
    "#Operación de edición, esta se hace sobre la capa\n",
    "puntos.edit_features(adds=[nf_dict])\n",
    "\n",
    "#consulta actualizada\n",
    "#newconsulta=puntos.query(out_fields=\"id,descripcion,tipo\")\n",
    "#newconsulta.sdf\n"
   ]
  },
  {
   "cell_type": "markdown",
   "metadata": {},
   "source": [
    "## Paso 4: Cargar datos desde CSV\n",
    "Con un CSV externo y python, se puede automatizar la lectura de datos desde archivos planos"
   ]
  },
  {
   "cell_type": "code",
   "execution_count": null,
   "metadata": {},
   "outputs": [],
   "source": [
    "archivo='https://raw.githubusercontent.com/SoportaServicios/UFROInducciones/f438d173e493f5669409dd217fbf07df33346bc1/input/data.csv'\r\n",
    "csvfile=open(archivo,newline='',encoding='utf-8')\r\n",
    "reader = csv.reader(csvfile)\r\n",
    "#next(reader)\r\n",
    "for row in reader:\r\n",
    "    print(row)\r\n",
    "csvfile.close()"
   ]
  },
  {
   "cell_type": "markdown",
   "metadata": {},
   "source": [
    "## Paso 5: Combinar pasos 3 y 4"
   ]
  },
  {
   "cell_type": "code",
   "execution_count": null,
   "metadata": {},
   "outputs": [],
   "source": [
    "archivo='https://raw.githubusercontent.com/SoportaServicios/UFROInducciones/f438d173e493f5669409dd217fbf07df33346bc1/input/data.csv'\r\n",
    "csvfile=open(archivo,newline='',encoding='utf-8')\r\n",
    "reader = csv.reader(csvfile)\r\n",
    "next(reader)\r\n",
    "\r\n",
    "insr=4326\r\n",
    "outsr=102100\r\n",
    "\r\n",
    "\r\n",
    "for row in reader:\r\n",
    "    y=row[0]\r\n",
    "    x=row[1]\r\n",
    "    id_dest=row[2]\r\n",
    "    tipo=row[3]\r\n",
    "    desc=row[4]\r\n",
    "    datosrp=project(geometries=[{\"x\":x,\"y\":y}],in_sr=insr,out_sr=outsr)\r\n",
    "    nf_dict= {\r\n",
    "    \"attributes\":{\r\n",
    "        'id':id_dest,\r\n",
    "        'descripcion':desc,\r\n",
    "        'tipo':tipo\r\n",
    "        },\r\n",
    "    \"geometry\":datosrp[0]}\r\n",
    "    puntos.edit_features(adds=[nf_dict])\r\n",
    "\r\n",
    "csvfile.close()"
   ]
  },
  {
   "cell_type": "code",
   "execution_count": null,
   "metadata": {},
   "outputs": [],
   "source": [
    "newconsulta=puntos.query(out_fields=\"id,descripcion,tipo\")\n",
    "newconsulta.sdf"
   ]
  }
 ],
 "metadata": {
  "interpreter": {
   "hash": "b3ba2566441a7c06988d0923437866b63cedc61552a5af99d1f4fb67d367b25f"
  },
  "kernelspec": {
   "display_name": "Python 3.7.10 64-bit ('base': conda)",
   "name": "python3"
  },
  "language_info": {
   "codemirror_mode": {
    "name": "ipython",
    "version": 3
   },
   "file_extension": ".py",
   "mimetype": "text/x-python",
   "name": "python",
   "nbconvert_exporter": "python",
   "pygments_lexer": "ipython3",
   "version": "3.7.10"
  }
 },
 "nbformat": 4,
 "nbformat_minor": 2
}